{
 "cells": [
  {
   "cell_type": "code",
   "execution_count": 5,
   "id": "5ef9f410",
   "metadata": {},
   "outputs": [],
   "source": [
    "# import needed modules\n",
    "import matplotlib.pyplot as plt\n",
    "import numpy as np\n",
    "import os\n",
    "import PIL\n",
    "import tensorflow as tf\n",
    "from tensorflow import keras\n",
    "from tensorflow.keras import layers\n",
    "from tensorflow.keras.layers import Dense, Flatten\n",
    "from tensorflow.keras.models import Sequential\n",
    "from tensorflow.keras.optimizers import Adam\n",
    "from tensorflow.keras.callbacks import EarlyStopping\n",
    "import pathlib\n",
    "import pickle"
   ]
  },
  {
   "cell_type": "code",
   "execution_count": 12,
   "id": "5f46f907",
   "metadata": {},
   "outputs": [
    {
     "name": "stdout",
     "output_type": "stream",
     "text": [
      "{'class_name': ['Abyssinian Guinea Pig', 'American Guinea Pig', 'Himalayan Guinea Pig', 'Peruvian Guinea Pig', 'Rex Guinea Pig', 'Silkie Guinea Pig', 'Skinny Pig', 'Teddy Guinea Pig', 'Texel Guinea Pig', 'White Crested Guinea Pig'], 'height': 256, 'width': 256}\n",
      "['Abyssinian Guinea Pig', 'American Guinea Pig', 'Himalayan Guinea Pig', 'Peruvian Guinea Pig', 'Rex Guinea Pig', 'Silkie Guinea Pig', 'Skinny Pig', 'Teddy Guinea Pig', 'Texel Guinea Pig', 'White Crested Guinea Pig']\n"
     ]
    }
   ],
   "source": [
    "# Load the model\n",
    "loaded_model = tf.keras.models.load_model(\"/Users/john_calimoso/Desktop/Guineapig resnet50 OOP /ResnetSavemodel\")\n",
    "\n",
    "piklefilepath = \"/Users/john_calimoso/Desktop/Guineapig resnet50 OOP /ResnetSavemodel/dataSaved.pkl\"\n",
    "\n",
    "with open(piklefilepath, 'rb') as file:\n",
    "    saved_data = pickle.load(file)\n",
    "    animal_breed = saved_data['class_name']\n",
    "    \n",
    "print(saved_data)\n",
    "print(animal_breed)"
   ]
  },
  {
   "cell_type": "code",
   "execution_count": 13,
   "id": "770ca808",
   "metadata": {},
   "outputs": [
    {
     "name": "stdout",
     "output_type": "stream",
     "text": [
      "(1, 256, 256, 3)\n",
      "1/1 [==============================] - 0s 442ms/step\n",
      "Himalayan Guinea Pig\n"
     ]
    }
   ],
   "source": [
    "import cv2\n",
    "image=cv2.imread(\"/Users/john_calimoso/Documents/John Folder/Thesis Project/ResnetTransferLearning/Sample Picture For Testing/bis_black_himalayan_saywell_med.jpeg\")\n",
    "image_resized= cv2.resize(image, (256,256))\n",
    "image=np.expand_dims(image_resized,axis=0)\n",
    "print(image.shape)\n",
    "\n",
    "pred=loaded_model.predict(image)\n",
    "\n",
    "output_class=animal_breed[np.argmax(pred)]\n",
    "\n",
    "print(output_class)"
   ]
  },
  {
   "cell_type": "code",
   "execution_count": null,
   "id": "4c9f8de5",
   "metadata": {},
   "outputs": [],
   "source": []
  }
 ],
 "metadata": {
  "kernelspec": {
   "display_name": "Python 3 (ipykernel)",
   "language": "python",
   "name": "python3"
  },
  "language_info": {
   "codemirror_mode": {
    "name": "ipython",
    "version": 3
   },
   "file_extension": ".py",
   "mimetype": "text/x-python",
   "name": "python",
   "nbconvert_exporter": "python",
   "pygments_lexer": "ipython3",
   "version": "3.10.11"
  }
 },
 "nbformat": 4,
 "nbformat_minor": 5
}
