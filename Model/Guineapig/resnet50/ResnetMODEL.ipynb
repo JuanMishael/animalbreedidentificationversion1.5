{
 "cells": [
  {
   "cell_type": "code",
   "execution_count": 3,
   "id": "b75f2b32",
   "metadata": {},
   "outputs": [],
   "source": [
    "# import needed modules\n",
    "import matplotlib.pyplot as plt\n",
    "import numpy as np\n",
    "import os\n",
    "import PIL\n",
    "import tensorflow as tf\n",
    "from tensorflow import keras\n",
    "from tensorflow.keras import layers\n",
    "from tensorflow.keras.layers import Dense, Flatten\n",
    "from tensorflow.keras.models import Sequential\n",
    "from tensorflow.keras.optimizers import Adam\n",
    "from tensorflow.keras.callbacks import EarlyStopping\n",
    "import pathlib\n",
    "import pickle\n",
    "\n",
    "class resNetGuineaPig:\n",
    "    def __init__(self,url):\n",
    "        self.url = url\n",
    "\n",
    "    def loadImageDataset(self):\n",
    "        # data_dir = tf.keras.utils.get_file('guineapigTAR', origin=self.url, untar=True)\n",
    "        data_dir = pathlib.Path(\"../../Dataset/Guinea Pig\")     # modified the path due to error in file naming\n",
    "        #show path location\n",
    "        print(data_dir)\n",
    "        #show sample image\n",
    "        TGP = list(data_dir.glob('Rex Guinea Pig/*'))\n",
    "        print(TGP[500])\n",
    "        PIL.Image.open(str(TGP[500]))\n",
    "        self.data_dir = data_dir\n",
    "\n",
    "    def train_validation(self):\n",
    "        self.img_height,self.img_width=256,256\n",
    "        batch_size=32\n",
    "        train_ds = tf.keras.preprocessing.image_dataset_from_directory(\n",
    "            self.data_dir,\n",
    "            validation_split=0.2,\n",
    "            subset=\"training\",\n",
    "            seed=123,\n",
    "            shuffle = True,\n",
    "            image_size=(self.img_height, self.img_width),\n",
    "            batch_size=batch_size)\n",
    "        val_ds = tf.keras.preprocessing.image_dataset_from_directory(\n",
    "            self.data_dir,\n",
    "            validation_split=0.2,\n",
    "            subset=\"validation\",\n",
    "            seed=123,\n",
    "            shuffle = True,\n",
    "            image_size=(self.img_height, self.img_width),\n",
    "            batch_size=batch_size)\n",
    "\n",
    "        self.train_ds = train_ds\n",
    "        self.val_ds = val_ds\n",
    "        self.class_names = train_ds.class_names\n",
    "\n",
    "    def build_model(self):\n",
    "        self.resnet_model = Sequential()\n",
    "\n",
    "        pretrained_model= tf.keras.applications.ResNet50(include_top=False,\n",
    "                            input_shape=(256,256,3),\n",
    "                            pooling='avg',classes=1000,\n",
    "                            weights='imagenet'\n",
    "                            )\n",
    "\n",
    "        for layer in pretrained_model.layers:\n",
    "                layer.trainable=False\n",
    "\n",
    "        self.resnet_model.add(pretrained_model)\n",
    "        self.resnet_model.add(Flatten())\n",
    "        self.resnet_model.add(Dense(512, activation='relu')) # 512\n",
    "        self.resnet_model.add(Dense(10, activation='softmax'))\n",
    "\n",
    "    def train_model(self):\n",
    "        # add early stopping callback\n",
    "        early_stopping = EarlyStopping(monitor='val_loss', patience=3, restore_best_weights=True)\n",
    "        # 1st Batch\n",
    "        self.resnet_model.compile(optimizer=Adam(lr=0.001),loss='sparse_categorical_crossentropy',metrics=['accuracy'])\n",
    "        epochs=15\n",
    "        history = self.resnet_model.fit(\n",
    "            self.train_ds,\n",
    "            validation_data=self.val_ds,\n",
    "            epochs=epochs,\n",
    "            callbacks=[early_stopping]  # save_ck for testing\n",
    "        )\n",
    "        # 2nd batch\n",
    "        self.resnet_model.compile(optimizer=Adam(lr=0.01),loss='sparse_categorical_crossentropy',metrics=['accuracy'])\n",
    "\n",
    "        epochs=15\n",
    "        history = self.resnet_model.fit(\n",
    "            self.train_ds,\n",
    "            validation_data=self.val_ds,\n",
    "            epochs=epochs,\n",
    "            callbacks=[early_stopping]\n",
    "        )\n",
    "        self.history = history\n",
    "\n",
    "    def evaluate_model(self):\n",
    "        fig1 = plt.gcf()\n",
    "        plt.plot(self.history.history['accuracy'])\n",
    "        plt.plot(self.history.history['val_accuracy'])\n",
    "        plt.axis(ymin=0.4,ymax=1)\n",
    "        plt.grid()\n",
    "        plt.title('Model Accuracy')\n",
    "        plt.ylabel('Accuracy')\n",
    "        plt.xlabel('Epochs')\n",
    "        plt.legend(['train', 'validation'])\n",
    "        return plt.show()\n",
    "    \n",
    "    def predict_image(self,img):\n",
    "        import cv2\n",
    "        image=cv2.imread(img)\n",
    "        image_resized= cv2.resize(image, (self.img_height,self.img_width))\n",
    "        image=np.expand_dims(image_resized,axis=0)\n",
    "        print(image.shape)\n",
    "\n",
    "        pred=self.resnet_model.predict(image)\n",
    "        output_class=self.class_names[np.argmax(pred)]\n",
    "        return output_class\n",
    "    def saving_model(self,file_path):\n",
    "        data_to_save = {\n",
    "            'class_name': self.class_names,\n",
    "            'height': self.img_height,\n",
    "            'width': self.img_width\n",
    "        }\n",
    "        with open(\"dataSaved.pkl\", 'wb') as file:\n",
    "            pickle.dump(data_to_save, file)\n",
    "        \n",
    "        self.resnet_model.save(file_path)\n",
    "\n"
   ]
  },
  {
   "cell_type": "code",
   "execution_count": 4,
   "id": "815a6060",
   "metadata": {
    "scrolled": true
   },
   "outputs": [
    {
     "name": "stdout",
     "output_type": "stream",
     "text": [
      "/Users/john_calimoso/Documents/John Folder/AI Model to Deploy/AI Model/Dataset/Guinea Pig\n",
      "/Users/john_calimoso/Documents/John Folder/AI Model to Deploy/AI Model/Dataset/Guinea Pig/Rex Guinea Pig/Rex_Guinea_Pig_original_Rex_Guinea_Pig9.jpg_1f85adda-ce40-4266-8a7b-4f1d65734c0f.jpg\n",
      "Found 10000 files belonging to 10 classes.\n",
      "Using 8000 files for training.\n",
      "Found 10000 files belonging to 10 classes.\n",
      "Using 2000 files for validation.\n"
     ]
    },
    {
     "name": "stderr",
     "output_type": "stream",
     "text": [
      "WARNING:absl:At this time, the v2.11+ optimizer `tf.keras.optimizers.Adam` runs slowly on M1/M2 Macs, please use the legacy Keras optimizer instead, located at `tf.keras.optimizers.legacy.Adam`.\n",
      "WARNING:absl:`lr` is deprecated in Keras optimizer, please use `learning_rate` or use the legacy optimizer, e.g.,tf.keras.optimizers.legacy.Adam.\n",
      "WARNING:absl:There is a known slowdown when using v2.11+ Keras optimizers on M1/M2 Macs. Falling back to the legacy Keras optimizer, i.e., `tf.keras.optimizers.legacy.Adam`.\n"
     ]
    },
    {
     "name": "stdout",
     "output_type": "stream",
     "text": [
      "Epoch 1/15\n",
      "250/250 [==============================] - 78s 307ms/step - loss: 1.0180 - accuracy: 0.7327 - val_loss: 0.4495 - val_accuracy: 0.8460\n",
      "Epoch 2/15\n",
      "250/250 [==============================] - 76s 304ms/step - loss: 0.3318 - accuracy: 0.8882 - val_loss: 0.2203 - val_accuracy: 0.9295\n",
      "Epoch 3/15\n",
      "250/250 [==============================] - 77s 304ms/step - loss: 0.1754 - accuracy: 0.9434 - val_loss: 0.1654 - val_accuracy: 0.9500\n",
      "Epoch 4/15\n",
      "250/250 [==============================] - 76s 304ms/step - loss: 0.1826 - accuracy: 0.9464 - val_loss: 0.2495 - val_accuracy: 0.9065\n",
      "Epoch 5/15\n",
      "250/250 [==============================] - 76s 304ms/step - loss: 0.1287 - accuracy: 0.9597 - val_loss: 0.2068 - val_accuracy: 0.9325\n",
      "Epoch 6/15\n",
      "250/250 [==============================] - 77s 305ms/step - loss: 0.1170 - accuracy: 0.9616 - val_loss: 0.2264 - val_accuracy: 0.9270\n"
     ]
    },
    {
     "name": "stderr",
     "output_type": "stream",
     "text": [
      "WARNING:absl:At this time, the v2.11+ optimizer `tf.keras.optimizers.Adam` runs slowly on M1/M2 Macs, please use the legacy Keras optimizer instead, located at `tf.keras.optimizers.legacy.Adam`.\n",
      "WARNING:absl:`lr` is deprecated in Keras optimizer, please use `learning_rate` or use the legacy optimizer, e.g.,tf.keras.optimizers.legacy.Adam.\n",
      "WARNING:absl:There is a known slowdown when using v2.11+ Keras optimizers on M1/M2 Macs. Falling back to the legacy Keras optimizer, i.e., `tf.keras.optimizers.legacy.Adam`.\n"
     ]
    },
    {
     "name": "stdout",
     "output_type": "stream",
     "text": [
      "Epoch 1/15\n",
      "250/250 [==============================] - 78s 306ms/step - loss: 0.2378 - accuracy: 0.9218 - val_loss: 0.3360 - val_accuracy: 0.8975\n",
      "Epoch 2/15\n",
      "250/250 [==============================] - 77s 304ms/step - loss: 0.2018 - accuracy: 0.9391 - val_loss: 0.1526 - val_accuracy: 0.9530\n",
      "Epoch 3/15\n",
      "250/250 [==============================] - 77s 305ms/step - loss: 0.1180 - accuracy: 0.9641 - val_loss: 0.1770 - val_accuracy: 0.9475\n",
      "Epoch 4/15\n",
      "250/250 [==============================] - 77s 305ms/step - loss: 0.1882 - accuracy: 0.9471 - val_loss: 0.1470 - val_accuracy: 0.9590\n",
      "Epoch 5/15\n",
      "250/250 [==============================] - 76s 304ms/step - loss: 0.1358 - accuracy: 0.9609 - val_loss: 0.2323 - val_accuracy: 0.9390\n",
      "Epoch 6/15\n",
      "250/250 [==============================] - 76s 304ms/step - loss: 0.1153 - accuracy: 0.9672 - val_loss: 0.1651 - val_accuracy: 0.9560\n",
      "Epoch 7/15\n",
      "250/250 [==============================] - 77s 304ms/step - loss: 0.1355 - accuracy: 0.9649 - val_loss: 0.1853 - val_accuracy: 0.9585\n"
     ]
    },
    {
     "data": {
      "image/png": "[encoded data removed]",
      "text/plain": [
       "<Figure size 640x480 with 1 Axes>"
      ]
     },
     "metadata": {},
     "output_type": "display_data"
    },
    {
     "name": "stdout",
     "output_type": "stream",
     "text": [
      "(1, 256, 256, 3)\n",
      "1/1 [==============================] - 1s 681ms/step\n",
      "The Predicted Breed is White Crested Guinea Pig\n"
     ]
    },
    {
     "name": "stderr",
     "output_type": "stream",
     "text": [
      "/Users/john_calimoso/anaconda3/lib/python3.10/site-packages/keras/src/engine/training.py:3000: UserWarning: You are saving your model as an HDF5 file via `model.save()`. This file format is considered legacy. We recommend using instead the native Keras format, e.g. `model.save('my_model.keras')`.\n",
      "  saving_api.save_model(\n"
     ]
    }
   ],
   "source": [
    "if __name__=='__main__':\n",
    "    resGP = resNetGuineaPig('')\n",
    "    resGP.loadImageDataset()\n",
    "    resGP.train_validation()\n",
    "    resGP.build_model()\n",
    "    resGP.train_model()\n",
    "    resGP.evaluate_model()\n",
    "\n",
    "    # get image for prediction\n",
    "    url_img = '/Users/john_calimoso/Documents/John Folder/Thesis Project/ResnetTransferLearning/Sample Picture For Testing/crested-guinea-pig-3.jpg'\n",
    "    output = resGP.predict_image(url_img)\n",
    "\n",
    "    print(f\"The Predicted Breed is {output}\")\n",
    "    \n",
    "    resGP.saving_model('ResnetSavemodel.h5')"
   ]
  },
  {
   "cell_type": "code",
   "execution_count": null,
   "id": "1f485002",
   "metadata": {},
   "outputs": [],
   "source": [
    "# resGP.resnet_model.save('/Users/john_calimoso/Desktop/Guineapig resnet50 OOP /ResnetSavemodel.h5')"
   ]
  },
  {
   "cell_type": "code",
   "execution_count": 5,
   "id": "bcfd8adc",
   "metadata": {},
   "outputs": [],
   "source": [
    "# Load the model\n",
    "loaded_model = tf.keras.models.load_model(\"./ResnetSavemodel.h5\")"
   ]
  },
  {
   "cell_type": "code",
   "execution_count": 6,
   "id": "f3ff2514",
   "metadata": {},
   "outputs": [
    {
     "name": "stdout",
     "output_type": "stream",
     "text": [
      "(1, 256, 256, 3)\n",
      "1/1 [==============================] - 1s 524ms/step\n",
      "Himalayan Guinea Pig\n"
     ]
    }
   ],
   "source": [
    "import cv2\n",
    "image=cv2.imread(\"/Users/john_calimoso/Documents/John Folder/Thesis Project/ResnetTransferLearning/Sample Picture For Testing/bis_black_himalayan_saywell_med.jpeg\")\n",
    "image_resized= cv2.resize(image, (256,256))\n",
    "image=np.expand_dims(image_resized,axis=0)\n",
    "print(image.shape)\n",
    "\n",
    "pred=loaded_model.predict(image)\n",
    "output_class=resGP.class_names[np.argmax(pred)]\n",
    "\n",
    "print(output_class)\n"
   ]
  },
  {
   "cell_type": "code",
   "execution_count": null,
   "id": "3610fcb7",
   "metadata": {},
   "outputs": [],
   "source": []
  }
 ],
 "metadata": {
  "kernelspec": {
   "display_name": "Python 3 (ipykernel)",
   "language": "python",
   "name": "python3"
  },
  "language_info": {
   "codemirror_mode": {
    "name": "ipython",
    "version": 3
   },
   "file_extension": ".py",
   "mimetype": "text/x-python",
   "name": "python",
   "nbconvert_exporter": "python",
   "pygments_lexer": "ipython3",
   "version": "3.10.11"
  }
 },
 "nbformat": 4,
 "nbformat_minor": 5
}
