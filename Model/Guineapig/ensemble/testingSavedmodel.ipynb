{
 "cells": [
  {
   "cell_type": "code",
   "execution_count": 1,
   "id": "48dfc287",
   "metadata": {},
   "outputs": [],
   "source": [
    "import joblib\n",
    "import PIL\n",
    "import numpy as np\n",
    "import cv2\n",
    "import tensorflow as tf\n",
    "import pickle"
   ]
  },
  {
   "cell_type": "code",
   "execution_count": 2,
   "id": "6f002cdc",
   "metadata": {},
   "outputs": [
    {
     "name": "stdout",
     "output_type": "stream",
     "text": [
      "WARNING:tensorflow:No training configuration found in the save file, so the model was *not* compiled. Compile it manually.\n"
     ]
    }
   ],
   "source": [
    "load_extractor = tf.keras.models.load_model(\"resnet_EXTRACTOR.h5\")\n",
    "\n",
    "modelpath = \"dataSaved.pkl\"\n",
    "\n",
    "with open(modelpath, 'rb') as file:\n",
    "    saved_data = pickle.load(file)\n",
    "    animal_breed = saved_data['class_name']\n",
    "    model = saved_data['logreg_svm_model']"
   ]
  },
  {
   "cell_type": "code",
   "execution_count": 16,
   "id": "0c5a2685",
   "metadata": {},
   "outputs": [
    {
     "name": "stdout",
     "output_type": "stream",
     "text": [
      "1/1 [==============================] - 0s 28ms/step\n"
     ]
    }
   ],
   "source": [
    "img = PIL.Image.open(\"/Users/john_calimoso/Documents/John Folder/Thesis Project/ResnetTransferLearning/Sample Picture For Testing/crested-guinea-pig-3.jpg\")\n",
    "img = img.convert(\"RGB\")\n",
    "img= np.asarray(img)\n",
    "image_resized= cv2.resize(img, (224,224))\n",
    "features = load_extractor.predict(np.expand_dims(image_resized, axis=0))"
   ]
  },
  {
   "cell_type": "code",
   "execution_count": 17,
   "id": "d41d54b0",
   "metadata": {},
   "outputs": [
    {
     "data": {
      "text/plain": [
       "array([1], dtype=int32)"
      ]
     },
     "execution_count": 17,
     "metadata": {},
     "output_type": "execute_result"
    }
   ],
   "source": [
    "reshaped_features = features.reshape(features.shape[0],-1)\n",
    "predicted_class = model.predict(reshaped_features)\n",
    "pred_proba = model.predict_proba(reshaped_features)[:2]\n",
    "predicted_class"
   ]
  },
  {
   "cell_type": "code",
   "execution_count": 18,
   "id": "7cb87ac0",
   "metadata": {},
   "outputs": [
    {
     "name": "stdout",
     "output_type": "stream",
     "text": [
      "Predicted Class:  American Guinea Pig\n"
     ]
    }
   ],
   "source": [
    "print(\"Predicted Class: \", animal_breed[predicted_class[0]])"
   ]
  },
  {
   "cell_type": "code",
   "execution_count": 15,
   "id": "47bd282d",
   "metadata": {},
   "outputs": [
    {
     "data": {
      "text/plain": [
       "0.9736114785108478"
      ]
     },
     "execution_count": 15,
     "metadata": {},
     "output_type": "execute_result"
    }
   ],
   "source": [
    "pred_proba[0][predicted_class[0]]"
   ]
  },
  {
   "cell_type": "code",
   "execution_count": 11,
   "id": "03fe108a",
   "metadata": {},
   "outputs": [
    {
     "data": {
      "text/plain": [
       "array([[2.28647145e-03, 6.42421633e-01, 1.19589196e-02, 5.10028942e-04,\n",
       "        1.36732632e-03, 2.19751858e-03, 7.09945421e-04, 2.06650284e-03,\n",
       "        4.92778839e-04, 3.35988875e-01]])"
      ]
     },
     "execution_count": 11,
     "metadata": {},
     "output_type": "execute_result"
    }
   ],
   "source": [
    "pred_proba"
   ]
  },
  {
   "cell_type": "code",
   "execution_count": null,
   "id": "6a379b45",
   "metadata": {},
   "outputs": [],
   "source": []
  }
 ],
 "metadata": {
  "kernelspec": {
   "display_name": "Python 3 (ipykernel)",
   "language": "python",
   "name": "python3"
  },
  "language_info": {
   "codemirror_mode": {
    "name": "ipython",
    "version": 3
   },
   "file_extension": ".py",
   "mimetype": "text/x-python",
   "name": "python",
   "nbconvert_exporter": "python",
   "pygments_lexer": "ipython3",
   "version": "3.10.11"
  }
 },
 "nbformat": 4,
 "nbformat_minor": 5
}
