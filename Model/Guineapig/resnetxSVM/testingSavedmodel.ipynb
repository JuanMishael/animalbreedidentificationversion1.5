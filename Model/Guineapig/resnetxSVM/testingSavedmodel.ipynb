{
 "cells": [
  {
   "cell_type": "code",
   "execution_count": 1,
   "id": "48dfc287",
   "metadata": {},
   "outputs": [],
   "source": [
    "import joblib\n",
    "import PIL\n",
    "import numpy as np\n",
    "import cv2\n",
    "import tensorflow as tf\n",
    "import pickle"
   ]
  },
  {
   "cell_type": "code",
   "execution_count": 3,
   "id": "6f002cdc",
   "metadata": {},
   "outputs": [
    {
     "name": "stdout",
     "output_type": "stream",
     "text": [
      "WARNING:tensorflow:No training configuration found in the save file, so the model was *not* compiled. Compile it manually.\n"
     ]
    }
   ],
   "source": [
    "load_extractor = tf.keras.models.load_model(\"/Users/john_calimoso/Desktop/Guineapig resnet50 OOP/backend/resnetxSVM/resnet_EXTRACTOR.h5\")\n",
    "\n",
    "modelpath = \"/Users/john_calimoso/Desktop/Guineapig resnet50 OOP/backend/resnetxSVM/dataSaved.pkl\"\n",
    "\n",
    "with open(modelpath, 'rb') as file:\n",
    "    saved_data = pickle.load(file)\n",
    "    animal_breed = saved_data['class_name']\n",
    "    model = saved_data['svm_model']"
   ]
  },
  {
   "cell_type": "code",
   "execution_count": 4,
   "id": "0c5a2685",
   "metadata": {},
   "outputs": [
    {
     "name": "stdout",
     "output_type": "stream",
     "text": [
      "1/1 [==============================] - 0s 455ms/step\n"
     ]
    }
   ],
   "source": [
    "img = PIL.Image.open(\"/Users/john_calimoso/Documents/John Folder/Thesis Project/ResnetTransferLearning/Sample Picture For Testing/crested-guinea-pig-3.jpg\")\n",
    "img = img.convert(\"RGB\")\n",
    "img= np.asarray(img)\n",
    "image_resized= cv2.resize(img, (224,224))\n",
    "features = load_extractor.predict(np.expand_dims(image_resized, axis=0))"
   ]
  },
  {
   "cell_type": "code",
   "execution_count": 10,
   "id": "d41d54b0",
   "metadata": {},
   "outputs": [
    {
     "data": {
      "text/plain": [
       "array([9], dtype=int32)"
      ]
     },
     "execution_count": 10,
     "metadata": {},
     "output_type": "execute_result"
    }
   ],
   "source": [
    "reshaped_features = features.reshape(features.shape[0],-1)\n",
    "predicted_class = model.predict(reshaped_features)\n",
    "pred_proba = model.predict_proba(reshaped_features)\n",
    "predicted_class"
   ]
  },
  {
   "cell_type": "code",
   "execution_count": 11,
   "id": "7cb87ac0",
   "metadata": {},
   "outputs": [
    {
     "name": "stdout",
     "output_type": "stream",
     "text": [
      "Predicted Class:  White Crested Guinea Pig\n"
     ]
    }
   ],
   "source": [
    "print(\"Predicted Class: \", animal_breed[predicted_class[0]])"
   ]
  },
  {
   "cell_type": "code",
   "execution_count": 14,
   "id": "47bd282d",
   "metadata": {},
   "outputs": [
    {
     "data": {
      "text/plain": [
       "0.8852880329973173"
      ]
     },
     "execution_count": 14,
     "metadata": {},
     "output_type": "execute_result"
    }
   ],
   "source": [
    "pred_proba[0][predicted_class[0]]"
   ]
  },
  {
   "cell_type": "code",
   "execution_count": 13,
   "id": "03fe108a",
   "metadata": {},
   "outputs": [
    {
     "data": {
      "text/plain": [
       "array([[0.00362861, 0.08265395, 0.0115733 , 0.00179989, 0.00410499,\n",
       "        0.00527146, 0.00124829, 0.00349877, 0.00093271, 0.88528803]])"
      ]
     },
     "execution_count": 13,
     "metadata": {},
     "output_type": "execute_result"
    }
   ],
   "source": [
    "pred_proba"
   ]
  },
  {
   "cell_type": "code",
   "execution_count": null,
   "id": "6a379b45",
   "metadata": {},
   "outputs": [],
   "source": []
  }
 ],
 "metadata": {
  "kernelspec": {
   "display_name": "Python 3 (ipykernel)",
   "language": "python",
   "name": "python3"
  },
  "language_info": {
   "codemirror_mode": {
    "name": "ipython",
    "version": 3
   },
   "file_extension": ".py",
   "mimetype": "text/x-python",
   "name": "python",
   "nbconvert_exporter": "python",
   "pygments_lexer": "ipython3",
   "version": "3.10.11"
  }
 },
 "nbformat": 4,
 "nbformat_minor": 5
}
